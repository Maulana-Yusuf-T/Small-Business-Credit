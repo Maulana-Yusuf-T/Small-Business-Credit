{
 "cells": [
  {
   "cell_type": "markdown",
   "id": "65544761",
   "metadata": {},
   "source": [
    "# **I. Background**"
   ]
  },
  {
   "cell_type": "markdown",
   "id": "cdbb1be0",
   "metadata": {},
   "source": [
    "# **II. Import Library Packages**"
   ]
  },
  {
   "cell_type": "code",
   "execution_count": 21,
   "id": "16924abf",
   "metadata": {},
   "outputs": [],
   "source": [
    "# Data Analysis Packages\n",
    "import pandas as pd\n",
    "import numpy as np\n",
    "\n",
    "# Visualization Tools\n",
    "import matplotlib.pyplot as plt\n",
    "import seaborn as sns\n",
    "\n",
    "# Statisticcal Packages\n",
    "import scipy.stats as stats\n",
    "\n",
    "# Machine Learning Packages\n",
    "from sklearn.model_selection import train_test_split, cross_val_score, RandomizedSearchCV\n",
    "from sklearn.neighbors import KNeighborsClassifier\n",
    "from sklearn.svm import SVC\n",
    "from sklearn.compose import ColumnTransformer\n",
    "from sklearn.ensemble import GradientBoostingClassifier\n",
    "from sklearn.preprocessing import RobustScaler, OneHotEncoder\n",
    "from sklearn.linear_model import LogisticRegression\n",
    "from sklearn.ensemble import RandomForestClassifier\n",
    "from sklearn.tree import DecisionTreeClassifier\n",
    "from sklearn.pipeline import Pipeline, make_pipeline\n",
    "from sklearn.metrics import classification_report, roc_curve, roc_auc_score, confusion_matrix\n",
    "\n",
    "# Model Saving\n",
    "import joblib"
   ]
  },
  {
   "cell_type": "markdown",
   "id": "41abafa4",
   "metadata": {},
   "source": [
    "# **III. Data Loading**"
   ]
  },
  {
   "cell_type": "markdown",
   "id": "8c57ed55",
   "metadata": {},
   "source": [
    "### **A. Load the Dataset**"
   ]
  },
  {
   "cell_type": "code",
   "execution_count": 22,
   "id": "7cfe7ca6",
   "metadata": {},
   "outputs": [
    {
     "data": {
      "text/html": [
       "<div>\n",
       "<style scoped>\n",
       "    .dataframe tbody tr th:only-of-type {\n",
       "        vertical-align: middle;\n",
       "    }\n",
       "\n",
       "    .dataframe tbody tr th {\n",
       "        vertical-align: top;\n",
       "    }\n",
       "\n",
       "    .dataframe thead th {\n",
       "        text-align: right;\n",
       "    }\n",
       "</style>\n",
       "<table border=\"1\" class=\"dataframe\">\n",
       "  <thead>\n",
       "    <tr style=\"text-align: right;\">\n",
       "      <th></th>\n",
       "      <th>ï»¿kode_provinsi</th>\n",
       "      <th>nama_provinsi</th>\n",
       "      <th>bps_kode_kabupaten_kota</th>\n",
       "      <th>bps_nama_kabupaten_kota</th>\n",
       "      <th>bps_kode_kecamatan</th>\n",
       "      <th>bps_nama_kecamatan</th>\n",
       "      <th>bps_kode_desa_kelurahan</th>\n",
       "      <th>bps_nama_desa_kelurahan</th>\n",
       "      <th>kemendagri_kode_kecamatan</th>\n",
       "      <th>kemendagri_nama_kecamatan</th>\n",
       "      <th>kemendagri_kode_desa_kelurahan</th>\n",
       "      <th>kemendagri_nama_desa_kelurahan</th>\n",
       "      <th>keberadaan_kredit_usaha_kecil</th>\n",
       "      <th>tahun</th>\n",
       "      <th>id</th>\n",
       "    </tr>\n",
       "  </thead>\n",
       "  <tbody>\n",
       "    <tr>\n",
       "      <th>0</th>\n",
       "      <td>32.0</td>\n",
       "      <td>JAWA BARAT</td>\n",
       "      <td>3201.0</td>\n",
       "      <td>KABUPATEN BOGOR</td>\n",
       "      <td>3201190.0</td>\n",
       "      <td>GUNUNG PUTRI</td>\n",
       "      <td>3.201190e+09</td>\n",
       "      <td>WANAHERANG</td>\n",
       "      <td>32.01.02</td>\n",
       "      <td>GUNUNG PUTRI</td>\n",
       "      <td>32.01.02.2001</td>\n",
       "      <td>WANAHERANG</td>\n",
       "      <td>ADA</td>\n",
       "      <td>2019.0</td>\n",
       "      <td>1</td>\n",
       "    </tr>\n",
       "    <tr>\n",
       "      <th>1</th>\n",
       "      <td>32.0</td>\n",
       "      <td>JAWA BARAT</td>\n",
       "      <td>3201.0</td>\n",
       "      <td>KABUPATEN BOGOR</td>\n",
       "      <td>3201190.0</td>\n",
       "      <td>GUNUNG PUTRI</td>\n",
       "      <td>3.201190e+09</td>\n",
       "      <td>BOJONG KULUR</td>\n",
       "      <td>32.01.02</td>\n",
       "      <td>GUNUNG PUTRI</td>\n",
       "      <td>32.01.02.2002</td>\n",
       "      <td>BOJONG KULUR</td>\n",
       "      <td>ADA</td>\n",
       "      <td>2019.0</td>\n",
       "      <td>2</td>\n",
       "    </tr>\n",
       "    <tr>\n",
       "      <th>2</th>\n",
       "      <td>32.0</td>\n",
       "      <td>JAWA BARAT</td>\n",
       "      <td>3201.0</td>\n",
       "      <td>KABUPATEN BOGOR</td>\n",
       "      <td>3201190.0</td>\n",
       "      <td>GUNUNG PUTRI</td>\n",
       "      <td>3.201190e+09</td>\n",
       "      <td>CIANGSANA</td>\n",
       "      <td>32.01.02</td>\n",
       "      <td>GUNUNG PUTRI</td>\n",
       "      <td>32.01.02.2003</td>\n",
       "      <td>CIANGSANA</td>\n",
       "      <td>ADA</td>\n",
       "      <td>2019.0</td>\n",
       "      <td>3</td>\n",
       "    </tr>\n",
       "    <tr>\n",
       "      <th>3</th>\n",
       "      <td>32.0</td>\n",
       "      <td>JAWA BARAT</td>\n",
       "      <td>3201.0</td>\n",
       "      <td>KABUPATEN BOGOR</td>\n",
       "      <td>3201190.0</td>\n",
       "      <td>GUNUNG PUTRI</td>\n",
       "      <td>3.201190e+09</td>\n",
       "      <td>GUNUNG PUTRI</td>\n",
       "      <td>32.01.02</td>\n",
       "      <td>GUNUNG PUTRI</td>\n",
       "      <td>32.01.02.2004</td>\n",
       "      <td>GUNUNG PUTRI</td>\n",
       "      <td>ADA</td>\n",
       "      <td>2019.0</td>\n",
       "      <td>4</td>\n",
       "    </tr>\n",
       "    <tr>\n",
       "      <th>4</th>\n",
       "      <td>32.0</td>\n",
       "      <td>JAWA BARAT</td>\n",
       "      <td>3201.0</td>\n",
       "      <td>KABUPATEN BOGOR</td>\n",
       "      <td>3201190.0</td>\n",
       "      <td>GUNUNG PUTRI</td>\n",
       "      <td>3.201190e+09</td>\n",
       "      <td>BOJONG NANGKA</td>\n",
       "      <td>32.01.02</td>\n",
       "      <td>GUNUNG PUTRI</td>\n",
       "      <td>32.01.02.2005</td>\n",
       "      <td>BOJONG NANGKA</td>\n",
       "      <td>ADA</td>\n",
       "      <td>2019.0</td>\n",
       "      <td>5</td>\n",
       "    </tr>\n",
       "    <tr>\n",
       "      <th>...</th>\n",
       "      <td>...</td>\n",
       "      <td>...</td>\n",
       "      <td>...</td>\n",
       "      <td>...</td>\n",
       "      <td>...</td>\n",
       "      <td>...</td>\n",
       "      <td>...</td>\n",
       "      <td>...</td>\n",
       "      <td>...</td>\n",
       "      <td>...</td>\n",
       "      <td>...</td>\n",
       "      <td>...</td>\n",
       "      <td>...</td>\n",
       "      <td>...</td>\n",
       "      <td>...</td>\n",
       "    </tr>\n",
       "    <tr>\n",
       "      <th>15931</th>\n",
       "      <td>32.0</td>\n",
       "      <td>JAWA BARAT</td>\n",
       "      <td>3279.0</td>\n",
       "      <td>KOTA BANJAR</td>\n",
       "      <td>3279020.0</td>\n",
       "      <td>PURWAHARJA</td>\n",
       "      <td>3.279020e+09</td>\n",
       "      <td>MEKARHARJA</td>\n",
       "      <td>32.79.03</td>\n",
       "      <td>PURWAHARJA</td>\n",
       "      <td>32.79.03.2003</td>\n",
       "      <td>MEKARHARJA</td>\n",
       "      <td>TIDAK ADA</td>\n",
       "      <td>2021.0</td>\n",
       "      <td>15932</td>\n",
       "    </tr>\n",
       "    <tr>\n",
       "      <th>15932</th>\n",
       "      <td>32.0</td>\n",
       "      <td>JAWA BARAT</td>\n",
       "      <td>3279.0</td>\n",
       "      <td>KOTA BANJAR</td>\n",
       "      <td>3279040.0</td>\n",
       "      <td>LANGENSARI</td>\n",
       "      <td>3.279040e+09</td>\n",
       "      <td>LANGENSARI</td>\n",
       "      <td>32.79.04</td>\n",
       "      <td>LANGENSARI</td>\n",
       "      <td>32.79.04.2001</td>\n",
       "      <td>LANGENSARI</td>\n",
       "      <td>TIDAK ADA</td>\n",
       "      <td>2021.0</td>\n",
       "      <td>15933</td>\n",
       "    </tr>\n",
       "    <tr>\n",
       "      <th>15933</th>\n",
       "      <td>32.0</td>\n",
       "      <td>JAWA BARAT</td>\n",
       "      <td>3279.0</td>\n",
       "      <td>KOTA BANJAR</td>\n",
       "      <td>3279040.0</td>\n",
       "      <td>LANGENSARI</td>\n",
       "      <td>3.279040e+09</td>\n",
       "      <td>REJASARI</td>\n",
       "      <td>32.79.04</td>\n",
       "      <td>LANGENSARI</td>\n",
       "      <td>32.79.04.2002</td>\n",
       "      <td>REJASARI</td>\n",
       "      <td>TIDAK ADA</td>\n",
       "      <td>2021.0</td>\n",
       "      <td>15934</td>\n",
       "    </tr>\n",
       "    <tr>\n",
       "      <th>15934</th>\n",
       "      <td>32.0</td>\n",
       "      <td>JAWA BARAT</td>\n",
       "      <td>3279.0</td>\n",
       "      <td>KOTA BANJAR</td>\n",
       "      <td>3279040.0</td>\n",
       "      <td>LANGENSARI</td>\n",
       "      <td>3.279040e+09</td>\n",
       "      <td>WARINGINSARI</td>\n",
       "      <td>32.79.04</td>\n",
       "      <td>LANGENSARI</td>\n",
       "      <td>32.79.04.2003</td>\n",
       "      <td>WARINGINSARI</td>\n",
       "      <td>ADA</td>\n",
       "      <td>2021.0</td>\n",
       "      <td>15935</td>\n",
       "    </tr>\n",
       "    <tr>\n",
       "      <th>15935</th>\n",
       "      <td>32.0</td>\n",
       "      <td>JAWA BARAT</td>\n",
       "      <td>3279.0</td>\n",
       "      <td>KOTA BANJAR</td>\n",
       "      <td>3279040.0</td>\n",
       "      <td>LANGENSARI</td>\n",
       "      <td>3.279040e+09</td>\n",
       "      <td>KUJANGSARI</td>\n",
       "      <td>32.79.04</td>\n",
       "      <td>LANGENSARI</td>\n",
       "      <td>32.79.04.2006</td>\n",
       "      <td>KUJANGSARI</td>\n",
       "      <td>TIDAK ADA</td>\n",
       "      <td>2021.0</td>\n",
       "      <td>15936</td>\n",
       "    </tr>\n",
       "  </tbody>\n",
       "</table>\n",
       "<p>15936 rows × 15 columns</p>\n",
       "</div>"
      ],
      "text/plain": [
       "       ï»¿kode_provinsi nama_provinsi  bps_kode_kabupaten_kota  \\\n",
       "0                  32.0    JAWA BARAT                   3201.0   \n",
       "1                  32.0    JAWA BARAT                   3201.0   \n",
       "2                  32.0    JAWA BARAT                   3201.0   \n",
       "3                  32.0    JAWA BARAT                   3201.0   \n",
       "4                  32.0    JAWA BARAT                   3201.0   \n",
       "...                 ...           ...                      ...   \n",
       "15931              32.0    JAWA BARAT                   3279.0   \n",
       "15932              32.0    JAWA BARAT                   3279.0   \n",
       "15933              32.0    JAWA BARAT                   3279.0   \n",
       "15934              32.0    JAWA BARAT                   3279.0   \n",
       "15935              32.0    JAWA BARAT                   3279.0   \n",
       "\n",
       "      bps_nama_kabupaten_kota  bps_kode_kecamatan bps_nama_kecamatan  \\\n",
       "0             KABUPATEN BOGOR           3201190.0       GUNUNG PUTRI   \n",
       "1             KABUPATEN BOGOR           3201190.0       GUNUNG PUTRI   \n",
       "2             KABUPATEN BOGOR           3201190.0       GUNUNG PUTRI   \n",
       "3             KABUPATEN BOGOR           3201190.0       GUNUNG PUTRI   \n",
       "4             KABUPATEN BOGOR           3201190.0       GUNUNG PUTRI   \n",
       "...                       ...                 ...                ...   \n",
       "15931             KOTA BANJAR           3279020.0         PURWAHARJA   \n",
       "15932             KOTA BANJAR           3279040.0         LANGENSARI   \n",
       "15933             KOTA BANJAR           3279040.0         LANGENSARI   \n",
       "15934             KOTA BANJAR           3279040.0         LANGENSARI   \n",
       "15935             KOTA BANJAR           3279040.0         LANGENSARI   \n",
       "\n",
       "       bps_kode_desa_kelurahan bps_nama_desa_kelurahan  \\\n",
       "0                 3.201190e+09              WANAHERANG   \n",
       "1                 3.201190e+09            BOJONG KULUR   \n",
       "2                 3.201190e+09               CIANGSANA   \n",
       "3                 3.201190e+09            GUNUNG PUTRI   \n",
       "4                 3.201190e+09           BOJONG NANGKA   \n",
       "...                        ...                     ...   \n",
       "15931             3.279020e+09              MEKARHARJA   \n",
       "15932             3.279040e+09              LANGENSARI   \n",
       "15933             3.279040e+09                REJASARI   \n",
       "15934             3.279040e+09            WARINGINSARI   \n",
       "15935             3.279040e+09              KUJANGSARI   \n",
       "\n",
       "      kemendagri_kode_kecamatan kemendagri_nama_kecamatan  \\\n",
       "0                      32.01.02              GUNUNG PUTRI   \n",
       "1                      32.01.02              GUNUNG PUTRI   \n",
       "2                      32.01.02              GUNUNG PUTRI   \n",
       "3                      32.01.02              GUNUNG PUTRI   \n",
       "4                      32.01.02              GUNUNG PUTRI   \n",
       "...                         ...                       ...   \n",
       "15931                  32.79.03                PURWAHARJA   \n",
       "15932                  32.79.04                LANGENSARI   \n",
       "15933                  32.79.04                LANGENSARI   \n",
       "15934                  32.79.04                LANGENSARI   \n",
       "15935                  32.79.04                LANGENSARI   \n",
       "\n",
       "      kemendagri_kode_desa_kelurahan kemendagri_nama_desa_kelurahan  \\\n",
       "0                      32.01.02.2001                     WANAHERANG   \n",
       "1                      32.01.02.2002                   BOJONG KULUR   \n",
       "2                      32.01.02.2003                      CIANGSANA   \n",
       "3                      32.01.02.2004                   GUNUNG PUTRI   \n",
       "4                      32.01.02.2005                  BOJONG NANGKA   \n",
       "...                              ...                            ...   \n",
       "15931                  32.79.03.2003                     MEKARHARJA   \n",
       "15932                  32.79.04.2001                     LANGENSARI   \n",
       "15933                  32.79.04.2002                       REJASARI   \n",
       "15934                  32.79.04.2003                   WARINGINSARI   \n",
       "15935                  32.79.04.2006                     KUJANGSARI   \n",
       "\n",
       "      keberadaan_kredit_usaha_kecil   tahun     id  \n",
       "0                               ADA  2019.0      1  \n",
       "1                               ADA  2019.0      2  \n",
       "2                               ADA  2019.0      3  \n",
       "3                               ADA  2019.0      4  \n",
       "4                               ADA  2019.0      5  \n",
       "...                             ...     ...    ...  \n",
       "15931                     TIDAK ADA  2021.0  15932  \n",
       "15932                     TIDAK ADA  2021.0  15933  \n",
       "15933                     TIDAK ADA  2021.0  15934  \n",
       "15934                           ADA  2021.0  15935  \n",
       "15935                     TIDAK ADA  2021.0  15936  \n",
       "\n",
       "[15936 rows x 15 columns]"
      ]
     },
     "execution_count": 22,
     "metadata": {},
     "output_type": "execute_result"
    }
   ],
   "source": [
    "# Read the csv file\n",
    "df_org = pd.read_csv('KUK_Jabar.csv', delimiter = ';')\n",
    "\n",
    "# Create a copy\n",
    "df_copy = df_org.copy()\n",
    "\n",
    "# Show head of the data\n",
    "df_copy"
   ]
  },
  {
   "cell_type": "markdown",
   "id": "d61ce03e",
   "metadata": {},
   "source": [
    "### **B. Summary of the Dataset**"
   ]
  },
  {
   "cell_type": "code",
   "execution_count": 23,
   "id": "0099c30c",
   "metadata": {},
   "outputs": [
    {
     "name": "stdout",
     "output_type": "stream",
     "text": [
      "<class 'pandas.core.frame.DataFrame'>\n",
      "RangeIndex: 15936 entries, 0 to 15935\n",
      "Data columns (total 15 columns):\n",
      " #   Column                          Non-Null Count  Dtype  \n",
      "---  ------                          --------------  -----  \n",
      " 0   ï»¿kode_provinsi                15936 non-null  float64\n",
      " 1   nama_provinsi                   15936 non-null  object \n",
      " 2   bps_kode_kabupaten_kota         15936 non-null  float64\n",
      " 3   bps_nama_kabupaten_kota         15936 non-null  object \n",
      " 4   bps_kode_kecamatan              15936 non-null  float64\n",
      " 5   bps_nama_kecamatan              15936 non-null  object \n",
      " 6   bps_kode_desa_kelurahan         15936 non-null  float64\n",
      " 7   bps_nama_desa_kelurahan         15936 non-null  object \n",
      " 8   kemendagri_kode_kecamatan       15936 non-null  object \n",
      " 9   kemendagri_nama_kecamatan       15936 non-null  object \n",
      " 10  kemendagri_kode_desa_kelurahan  15936 non-null  object \n",
      " 11  kemendagri_nama_desa_kelurahan  15936 non-null  object \n",
      " 12  keberadaan_kredit_usaha_kecil   15936 non-null  object \n",
      " 13  tahun                           15936 non-null  float64\n",
      " 14  id                              15936 non-null  int64  \n",
      "dtypes: float64(5), int64(1), object(9)\n",
      "memory usage: 1.8+ MB\n"
     ]
    }
   ],
   "source": [
    "# Show the info of dataset\n",
    "df_copy.info()"
   ]
  },
  {
   "cell_type": "markdown",
   "id": "40d2686a",
   "metadata": {},
   "source": [
    "### **C. Check the Data Shape**"
   ]
  },
  {
   "cell_type": "code",
   "execution_count": 24,
   "id": "9137389b",
   "metadata": {},
   "outputs": [
    {
     "data": {
      "text/plain": [
       "(15936, 15)"
      ]
     },
     "execution_count": 24,
     "metadata": {},
     "output_type": "execute_result"
    }
   ],
   "source": [
    "# Check the data shape\n",
    "df_copy.shape"
   ]
  },
  {
   "cell_type": "markdown",
   "id": "ffd1ab55",
   "metadata": {},
   "source": [
    "### **D. Check the Missing Values**"
   ]
  },
  {
   "cell_type": "code",
   "execution_count": 25,
   "id": "0310c988",
   "metadata": {},
   "outputs": [
    {
     "data": {
      "text/plain": [
       "ï»¿kode_provinsi                  0\n",
       "nama_provinsi                     0\n",
       "bps_kode_kabupaten_kota           0\n",
       "bps_nama_kabupaten_kota           0\n",
       "bps_kode_kecamatan                0\n",
       "bps_nama_kecamatan                0\n",
       "bps_kode_desa_kelurahan           0\n",
       "bps_nama_desa_kelurahan           0\n",
       "kemendagri_kode_kecamatan         0\n",
       "kemendagri_nama_kecamatan         0\n",
       "kemendagri_kode_desa_kelurahan    0\n",
       "kemendagri_nama_desa_kelurahan    0\n",
       "keberadaan_kredit_usaha_kecil     0\n",
       "tahun                             0\n",
       "id                                0\n",
       "dtype: int64"
      ]
     },
     "execution_count": 25,
     "metadata": {},
     "output_type": "execute_result"
    }
   ],
   "source": [
    "# Check the missing values\n",
    "df_copy.isnull().sum()"
   ]
  },
  {
   "cell_type": "markdown",
   "id": "b4c44ceb",
   "metadata": {},
   "source": [
    "### **E. Check the Duplicates**"
   ]
  },
  {
   "cell_type": "code",
   "execution_count": 26,
   "id": "37871a82",
   "metadata": {},
   "outputs": [
    {
     "data": {
      "text/plain": [
       "0"
      ]
     },
     "execution_count": 26,
     "metadata": {},
     "output_type": "execute_result"
    }
   ],
   "source": [
    "# Check the duplicates\n",
    "df_copy.duplicated().sum()"
   ]
  },
  {
   "cell_type": "markdown",
   "id": "55999f2a",
   "metadata": {},
   "source": [
    "### **F. Check the Cardinality**"
   ]
  },
  {
   "cell_type": "code",
   "execution_count": 27,
   "id": "89e56fd3",
   "metadata": {},
   "outputs": [
    {
     "data": {
      "text/plain": [
       "ï»¿kode_provinsi                      1\n",
       "nama_provinsi                         1\n",
       "bps_kode_kabupaten_kota              19\n",
       "bps_nama_kabupaten_kota              19\n",
       "bps_kode_kecamatan                  539\n",
       "bps_nama_kecamatan                  501\n",
       "bps_kode_desa_kelurahan            5312\n",
       "bps_nama_desa_kelurahan            3407\n",
       "kemendagri_kode_kecamatan           539\n",
       "kemendagri_nama_kecamatan           501\n",
       "kemendagri_kode_desa_kelurahan     5312\n",
       "kemendagri_nama_desa_kelurahan     3407\n",
       "keberadaan_kredit_usaha_kecil         2\n",
       "tahun                                 3\n",
       "id                                15936\n",
       "dtype: int64"
      ]
     },
     "execution_count": 27,
     "metadata": {},
     "output_type": "execute_result"
    }
   ],
   "source": [
    "# Check the cardinality\n",
    "df_copy.nunique()"
   ]
  },
  {
   "cell_type": "markdown",
   "id": "942ee2ca",
   "metadata": {},
   "source": [
    "### **G. Check the Skewness**"
   ]
  },
  {
   "cell_type": "code",
   "execution_count": 28,
   "id": "f3998401",
   "metadata": {},
   "outputs": [
    {
     "name": "stdout",
     "output_type": "stream",
     "text": [
      "                         Skewness        Interpretation\n",
      "ï»¿kode_provinsi         0.000000  Approximately Normal\n",
      "bps_kode_kabupaten_kota  4.523806          Right Skewed\n",
      "bps_kode_kecamatan       4.550530          Right Skewed\n",
      "bps_kode_desa_kelurahan  4.550530          Right Skewed\n",
      "tahun                    0.000000  Approximately Normal\n",
      "id                       0.000000  Approximately Normal\n"
     ]
    }
   ],
   "source": [
    "# Take numerical columns only\n",
    "numerical_cols = df_copy.select_dtypes(include = [np.number]).columns\n",
    "\n",
    "# Count the skewness\n",
    "skewness = df_copy[numerical_cols].skew()\n",
    "\n",
    "# Create a def function\n",
    "def interpret_skew(val):\n",
    "    if val > 0.5:\n",
    "        return 'Right Skewed'\n",
    "    elif val < -0.5:\n",
    "        return 'Left Skewed'\n",
    "    else:\n",
    "        return 'Approximately Normal'\n",
    "\n",
    "# Create a dataframe\n",
    "skewness_df = pd.DataFrame({\n",
    "    'Skewness': skewness,\n",
    "    'Interpretation': skewness.apply(interpret_skew)\n",
    "})\n",
    "\n",
    "# Show the output\n",
    "print(skewness_df)"
   ]
  },
  {
   "cell_type": "markdown",
   "id": "637cc55c",
   "metadata": {},
   "source": [
    "# **IV. Data Preprocessing**"
   ]
  },
  {
   "cell_type": "markdown",
   "id": "742cb8db",
   "metadata": {},
   "source": [
    "### **A. Rename Columns**"
   ]
  },
  {
   "cell_type": "code",
   "execution_count": 29,
   "id": "1460e950",
   "metadata": {},
   "outputs": [
    {
     "name": "stdout",
     "output_type": "stream",
     "text": [
      "<class 'pandas.core.frame.DataFrame'>\n",
      "RangeIndex: 15936 entries, 0 to 15935\n",
      "Data columns (total 15 columns):\n",
      " #   Column                          Non-Null Count  Dtype  \n",
      "---  ------                          --------------  -----  \n",
      " 0   kode_provinsi                   15936 non-null  float64\n",
      " 1   nama_provinsi                   15936 non-null  object \n",
      " 2   bps_kode_kabupaten_kota         15936 non-null  float64\n",
      " 3   bps_nama_kabupaten_kota         15936 non-null  object \n",
      " 4   bps_kode_kecamatan              15936 non-null  float64\n",
      " 5   bps_nama_kecamatan              15936 non-null  object \n",
      " 6   bps_kode_desa_kelurahan         15936 non-null  float64\n",
      " 7   bps_nama_desa_kelurahan         15936 non-null  object \n",
      " 8   kemendagri_kode_kecamatan       15936 non-null  object \n",
      " 9   kemendagri_nama_kecamatan       15936 non-null  object \n",
      " 10  kemendagri_kode_desa_kelurahan  15936 non-null  object \n",
      " 11  kemendagri_nama_desa_kelurahan  15936 non-null  object \n",
      " 12  keberadaan_kredit_usaha_kecil   15936 non-null  object \n",
      " 13  tahun                           15936 non-null  float64\n",
      " 14  id                              15936 non-null  int64  \n",
      "dtypes: float64(5), int64(1), object(9)\n",
      "memory usage: 1.8+ MB\n"
     ]
    }
   ],
   "source": [
    "# Rename columns\n",
    "df_copy = df_copy.rename(columns = {'ï»¿kode_provinsi': 'kode_provinsi'})\n",
    "\n",
    "# Check the latest info\n",
    "df_copy.info()"
   ]
  },
  {
   "cell_type": "markdown",
   "id": "cfecc616",
   "metadata": {},
   "source": [
    "### **B. Converting the Data Type**"
   ]
  },
  {
   "cell_type": "code",
   "execution_count": 30,
   "id": "d716c09f",
   "metadata": {},
   "outputs": [],
   "source": [
    "# Converting the Dtype\n",
    "\n",
    "# Change from float into int\n",
    "df_copy['tahun'] = df_copy['tahun'].astype(int)\n",
    "\n",
    "# Change from float into str\n",
    "df_copy['kode_provinsi'] = df_copy['kode_provinsi'].astype(int).astype(str)\n",
    "df_copy['bps_kode_kabupaten_kota'] = df_copy['bps_kode_kabupaten_kota'].astype(int).astype(str)\n",
    "df_copy['bps_kode_kecamatan'] = df_copy['bps_kode_kecamatan'].astype(int).astype(str)\n",
    "df_copy['bps_kode_desa_kelurahan'] = df_copy['bps_kode_desa_kelurahan'].astype(int).astype(str)"
   ]
  },
  {
   "cell_type": "markdown",
   "id": "6cab2d21",
   "metadata": {},
   "source": [
    "### **C. Drop the Unrelated Columns**"
   ]
  },
  {
   "cell_type": "code",
   "execution_count": 34,
   "id": "34336408",
   "metadata": {},
   "outputs": [],
   "source": [
    "# Drop the unrelated columns\n",
    "drop_the_cols = [\n",
    "    'kode_provinsi',\n",
    "    'nama_provinsi',\n",
    "    'kemendagri_kode_kecamatan',\n",
    "    'kemendagri_nama_kecamatan',\n",
    "    'kemendagri_kode_desa_kelurahan',\n",
    "    'kemendagri_nama_desa_kelurahan',\n",
    "    'id'\n",
    "]\n",
    "\n",
    "# Show the latest columns info\n",
    "df_copy = df_copy.drop(columns=drop_the_cols)"
   ]
  },
  {
   "cell_type": "markdown",
   "id": "9f0163d8",
   "metadata": {},
   "source": [
    "### **D. Category Value Mapping**"
   ]
  },
  {
   "cell_type": "code",
   "execution_count": 35,
   "id": "ad0ac07b",
   "metadata": {},
   "outputs": [],
   "source": [
    "# Convert from object into number\n",
    "df_copy['keberadaan_kredit_usaha_kecil'] = df_copy['keberadaan_kredit_usaha_kecil'].map({\n",
    "    'ADA': 1,\n",
    "    'TIDAK ADA': 0\n",
    "})"
   ]
  },
  {
   "cell_type": "code",
   "execution_count": 36,
   "id": "f397987d",
   "metadata": {},
   "outputs": [
    {
     "data": {
      "text/plain": [
       "keberadaan_kredit_usaha_kecil\n",
       "0    11823\n",
       "1     4113\n",
       "Name: count, dtype: int64"
      ]
     },
     "execution_count": 36,
     "metadata": {},
     "output_type": "execute_result"
    }
   ],
   "source": [
    "# Check the value\n",
    "df_copy['keberadaan_kredit_usaha_kecil'].value_counts()"
   ]
  },
  {
   "cell_type": "markdown",
   "id": "bf1819ee",
   "metadata": {},
   "source": [
    "# **V. Exploratory Data Analysis**"
   ]
  },
  {
   "cell_type": "markdown",
   "id": "efb5bbca",
   "metadata": {},
   "source": [
    "### **A. Distribution of Overall KUK Facilities**"
   ]
  },
  {
   "cell_type": "code",
   "execution_count": 44,
   "id": "91ce85d1",
   "metadata": {},
   "outputs": [
    {
     "data": {
      "image/png": "[encoded data removed]",
      "text/plain": [
       "<Figure size 800x500 with 1 Axes>"
      ]
     },
     "metadata": {},
     "output_type": "display_data"
    }
   ],
   "source": [
    "# Create the visualization\n",
    "plt.figure(figsize = (8, 5))\n",
    "sns.countplot(x = 'keberadaan_kredit_usaha_kecil', data = df_copy,\n",
    "              hue = 'keberadaan_kredit_usaha_kecil')\n",
    "\n",
    "# Add title\n",
    "plt.title('Distribution of Overall KUK Facilities')\n",
    "plt.xlabel('The Existence of Small Business Credit')\n",
    "plt.ylabel('Count')\n",
    "\n",
    "# Show the visualization\n",
    "plt.show()"
   ]
  }
 ],
 "metadata": {
  "kernelspec": {
   "display_name": "base",
   "language": "python",
   "name": "python3"
  },
  "language_info": {
   "codemirror_mode": {
    "name": "ipython",
    "version": 3
   },
   "file_extension": ".py",
   "mimetype": "text/x-python",
   "name": "python",
   "nbconvert_exporter": "python",
   "pygments_lexer": "ipython3",
   "version": "3.12.7"
  }
 },
 "nbformat": 4,
 "nbformat_minor": 5
}
